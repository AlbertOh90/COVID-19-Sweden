{
 "cells": [
  {
   "cell_type": "code",
   "execution_count": 15,
   "metadata": {},
   "outputs": [],
   "source": [
    "import numpy as np\n",
    "import matplotlib.pyplot as plt\n",
    "from sklearn.linear_model import LinearRegression\n",
    "import datetime "
   ]
  },
  {
   "cell_type": "code",
   "execution_count": 9,
   "metadata": {},
   "outputs": [],
   "source": [
    "new_cases = [1,1,5,4,2,15,22,42,43,24,42,57,96,144,167]\n",
    "confirmed_days = list(range(len(new_cases)))"
   ]
  },
  {
   "cell_type": "code",
   "execution_count": 10,
   "metadata": {},
   "outputs": [],
   "source": [
    "cum = []\n",
    "sum_cases = 0\n",
    "for i in new_cases:\n",
    "    sum_cases += i\n",
    "    cum.append(sum_cases)\n",
    "log_cum = np.log(cum)"
   ]
  },
  {
   "cell_type": "code",
   "execution_count": 11,
   "metadata": {},
   "outputs": [],
   "source": [
    "def predict_cases(future):\n",
    "    lm = LinearRegression()\n",
    "    lm.fit(np.array(confirmed_days).reshape(-1,1), log_cum)\n",
    "    log_cases = lm.predict(np.array(future).reshape(-1,1))\n",
    "    cases = np.exp(log_cases)\n",
    "    return cases"
   ]
  },
  {
   "cell_type": "code",
   "execution_count": 12,
   "metadata": {},
   "outputs": [],
   "source": [
    "enddate = datetime.date(2020, 3, 12)\n",
    "future_date = datetime.date(2020,3, 22)\n",
    "diff = future_date-enddate"
   ]
  },
  {
   "cell_type": "code",
   "execution_count": 13,
   "metadata": {},
   "outputs": [
    {
     "data": {
      "image/png": "[encoded data removed]",
      "text/plain": [
       "<Figure size 432x288 with 1 Axes>"
      ]
     },
     "metadata": {
      "needs_background": "light"
     },
     "output_type": "display_data"
    }
   ],
   "source": [
    "future = list(range(len(confirmed_days), len(confirmed_days)+diff.days))\n",
    "new_cases = predict_cases(future)\n",
    "plt.title('Cases in Sweden')\n",
    "plt.plot(future, new_cases, 'o',label ='Predicted number of cases')\n",
    "plt.plot(confirmed_days, cum, '+', label = 'Confirmed number of cases')\n",
    "plt.xlabel('Days')\n",
    "plt.ylabel('Cases')\n",
    "plt.legend()\n",
    "plt.show()"
   ]
  },
  {
   "cell_type": "code",
   "execution_count": 14,
   "metadata": {},
   "outputs": [
    {
     "data": {
      "text/plain": [
       "90952.67540669646"
      ]
     },
     "execution_count": 14,
     "metadata": {},
     "output_type": "execute_result"
    }
   ],
   "source": [
    "new_cases[-1]"
   ]
  },
  {
   "cell_type": "code",
   "execution_count": null,
   "metadata": {},
   "outputs": [],
   "source": []
  }
 ],
 "metadata": {
  "kernelspec": {
   "display_name": "Python 3",
   "language": "python",
   "name": "python3"
  },
  "language_info": {
   "codemirror_mode": {
    "name": "ipython",
    "version": 3
   },
   "file_extension": ".py",
   "mimetype": "text/x-python",
   "name": "python",
   "nbconvert_exporter": "python",
   "pygments_lexer": "ipython3",
   "version": "3.7.4"
  }
 },
 "nbformat": 4,
 "nbformat_minor": 4
}
